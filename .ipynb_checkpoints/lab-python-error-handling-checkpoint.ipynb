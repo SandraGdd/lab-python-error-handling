{
 "cells": [
  {
   "cell_type": "markdown",
   "id": "25d7736c-ba17-4aff-b6bb-66eba20fbf4e",
   "metadata": {},
   "source": [
    "# Lab | Error Handling"
   ]
  },
  {
   "cell_type": "markdown",
   "id": "bc99b386-7508-47a0-bcdb-d969deaf6c8b",
   "metadata": {},
   "source": [
    "## Exercise: Error Handling for Managing Customer Orders\n",
    "\n",
    "The implementation of your code for managing customer orders assumes that the user will always enter a valid input. \n",
    "\n",
    "For example, we could modify the `initialize_inventory` function to include error handling.\n",
    "   - If the user enters an invalid quantity (e.g., a negative value or a non-numeric value), display an error message and ask them to re-enter the quantity for that product.\n",
    "   - Use a try-except block to handle the error and continue prompting the user until a valid quantity is entered.\n",
    "\n",
    "```python\n",
    "# Step 1: Define the function for initializing the inventory with error handling\n",
    "def initialize_inventory(products):\n",
    "    inventory = {}\n",
    "    for product in products:\n",
    "        valid_quantity = False\n",
    "        while not valid_quantity:\n",
    "            try:\n",
    "                quantity = int(input(f\"Enter the quantity of {product}s available: \"))\n",
    "                if quantity < 0:\n",
    "                    raise ValueError(\"Invalid quantity! Please enter a non-negative value.\")\n",
    "                valid_quantity = True\n",
    "            except ValueError as error:\n",
    "                print(f\"Error: {error}\")\n",
    "        inventory[product] = quantity\n",
    "    return inventory\n",
    "\n",
    "# Or, in another way:\n",
    "\n",
    "def initialize_inventory(products):\n",
    "    inventory = {}\n",
    "    for product in products:\n",
    "        valid_input = False\n",
    "        while not valid_input:\n",
    "            try:\n",
    "                quantity = int(input(f\"Enter the quantity of {product}s available: \"))\n",
    "                if quantity >= 0:\n",
    "                    inventory[product] = quantity\n",
    "                    valid_input = True\n",
    "                else:\n",
    "                    print(\"Quantity cannot be negative. Please enter a valid quantity.\")\n",
    "            except ValueError:\n",
    "                print(\"Invalid input. Please enter a valid quantity.\")\n",
    "    return inventory\n",
    "```\n",
    "\n",
    "Let's enhance your code by implementing error handling to handle invalid inputs.\n",
    "\n",
    "Follow the steps below to complete the exercise:\n",
    "\n",
    "2. Modify the `calculate_total_price` function to include error handling.\n",
    "   - If the user enters an invalid price (e.g., a negative value or a non-numeric value), display an error message and ask them to re-enter the price for that product.\n",
    "   - Use a try-except block to handle the error and continue prompting the user until a valid price is entered.\n",
    "\n",
    "3. Modify the `get_customer_orders` function to include error handling.\n",
    "   - If the user enters an invalid number of orders (e.g., a negative value or a non-numeric value), display an error message and ask them to re-enter the number of orders.\n",
    "   - If the user enters an invalid product name (e.g., a product name that is not in the inventory), or that doesn't have stock available, display an error message and ask them to re-enter the product name. *Hint: you will need to pass inventory as a parameter*\n",
    "   - Use a try-except block to handle the error and continue prompting the user until a valid product name is entered.\n",
    "\n",
    "4. Test your code by running the program and deliberately entering invalid quantities and product names. Make sure the error handling mechanism works as expected.\n"
   ]
  },
  {
   "cell_type": "code",
   "execution_count": 70,
   "id": "7997bf23-e76d-4d56-a267-1282cf217727",
   "metadata": {},
   "outputs": [
    {
     "name": "stdin",
     "output_type": "stream",
     "text": [
      "Enter the quantity of t-shirts available:  4\n",
      "Enter the quantity of mugs available:  fg\n"
     ]
    },
    {
     "name": "stdout",
     "output_type": "stream",
     "text": [
      "Invalid quantity! Please enter a non-negative or numeric value.\n"
     ]
    },
    {
     "name": "stdin",
     "output_type": "stream",
     "text": [
      "Enter the quantity of mugs available:  3\n",
      "Enter the quantity of hats available:  34\n",
      "Enter the quantity of books available:  fd\n"
     ]
    },
    {
     "name": "stdout",
     "output_type": "stream",
     "text": [
      "Invalid quantity! Please enter a non-negative or numeric value.\n"
     ]
    },
    {
     "name": "stdin",
     "output_type": "stream",
     "text": [
      "Enter the quantity of books available:  6\n",
      "Enter the quantity of keychains available:  9\n"
     ]
    }
   ],
   "source": [
    "products  = [\"t-shirt\", \"mug\", \"hat\", \"book\", \"keychain\"]\n",
    "\n",
    "def initialize_inventory(products):\n",
    "    inventory = {}\n",
    "    for product in products:\n",
    "        valid_quantity = False\n",
    "        while not valid_quantity:\n",
    "            try:\n",
    "                quantity = int(input(f\"Enter the quantity of {product}s available: \"))\n",
    "                if quantity < 0:\n",
    "                    raise ValueError(\"Invalid quantity! Please enter a non-negative or numeric value.\")\n",
    "                valid_quantity = True\n",
    "            except ValueError as error:\n",
    "                print(\"Invalid quantity! Please enter a non-negative or numeric value.\")\n",
    "        inventory[product] = quantity\n",
    "    return inventory\n",
    "\n",
    "inventory = initialize_inventory(products)"
   ]
  },
  {
   "cell_type": "code",
   "execution_count": 90,
   "id": "ef9f893a-7574-4226-a1af-4afe3b5b31f6",
   "metadata": {},
   "outputs": [
    {
     "name": "stdin",
     "output_type": "stream",
     "text": [
      "Enter the price of each t-shirt:  23\n",
      "Enter the price of each mug:  12\n",
      "Enter the price of each hat:  hd\n"
     ]
    },
    {
     "name": "stdout",
     "output_type": "stream",
     "text": [
      "Invalid price! Please enter a non-negative and numeric value.\n"
     ]
    },
    {
     "name": "stdin",
     "output_type": "stream",
     "text": [
      "Enter the price of each hat:  -12\n"
     ]
    },
    {
     "name": "stdout",
     "output_type": "stream",
     "text": [
      "Invalid price! Please enter a non-negative and numeric value.\n"
     ]
    },
    {
     "name": "stdin",
     "output_type": "stream",
     "text": [
      "Enter the price of each hat:  2.50\n",
      "Enter the price of each book:  10\n",
      "Enter the price of each keychain:  3.50\n"
     ]
    },
    {
     "name": "stdout",
     "output_type": "stream",
     "text": [
      "The total price of all products is: $304.50\n"
     ]
    }
   ],
   "source": [
    "# 2 modify calculate_total_price\n",
    "\n",
    "def calculate_total_price(inventory):\n",
    "    total_price = 0\n",
    "    for product, quantity in inventory.items():\n",
    "        valid_price = False\n",
    "        while not valid_price:\n",
    "            try:\n",
    "                price = float(input(f\"Enter the price of each {product}: \"))\n",
    "                if price < 0:\n",
    "                    raise ValueError(\"Invalid price! Please enter a non-negative and numeric value.\")\n",
    "                valid_price = True\n",
    "            except ValueError as error:\n",
    "                print(\"Invalid price! Please enter a non-negative and numeric value.\")\n",
    "        total_price += price * quantity\n",
    "    return total_price\n",
    "\n",
    "# Calculate and print total price\n",
    "total_price = calculate_total_price(inventory)\n",
    "print(f\"The total price of all products is: ${total_price:.2f}\")\n"
   ]
  },
  {
   "cell_type": "code",
   "execution_count": 92,
   "id": "f939a79f-9a10-4e04-9b83-04c28b318569",
   "metadata": {},
   "outputs": [
    {
     "name": "stdin",
     "output_type": "stream",
     "text": [
      "Do you want to order another product? (yes/no):  yes\n",
      "Enter the name of a product you want to order:  hdd\n"
     ]
    },
    {
     "name": "stdout",
     "output_type": "stream",
     "text": [
      "Error: Invalid product name or not in inventory. Please enter a valid product name.\n"
     ]
    },
    {
     "name": "stdin",
     "output_type": "stream",
     "text": [
      "Enter the name of a product you want to order:  -12\n"
     ]
    },
    {
     "name": "stdout",
     "output_type": "stream",
     "text": [
      "Error: Invalid product name or not in inventory. Please enter a valid product name.\n"
     ]
    },
    {
     "name": "stdin",
     "output_type": "stream",
     "text": [
      "Enter the name of a product you want to order:  book\n",
      "Enter the quantity of book:  12\n"
     ]
    },
    {
     "name": "stdout",
     "output_type": "stream",
     "text": [
      "Number no longer available, please enter another number.\n"
     ]
    },
    {
     "name": "stdin",
     "output_type": "stream",
     "text": [
      "Enter the quantity of book:  9\n"
     ]
    },
    {
     "name": "stdout",
     "output_type": "stream",
     "text": [
      "Number no longer available, please enter another number.\n"
     ]
    },
    {
     "name": "stdin",
     "output_type": "stream",
     "text": [
      "Enter the quantity of book:  1\n",
      "Do you want to add another product? (yes/no):  no\n"
     ]
    },
    {
     "name": "stdout",
     "output_type": "stream",
     "text": [
      "Customer orders: {'book': 1}\n"
     ]
    }
   ],
   "source": [
    "# 3 modified get_customer_orders\n",
    "\n",
    "def get_customer_orders(inventory, total_price): \n",
    "    customer_orders = {} \n",
    "    add_another = input(\"Do you want to order another product? (yes/no): \")\n",
    "    while add_another.lower() == 'yes': \n",
    "        valid_product = False\n",
    "        while not valid_product:\n",
    "            product_name = input(\"Enter the name of a product you want to order: \") \n",
    "            if product_name in inventory and inventory[product_name] > 0:\n",
    "                valid_product = True\n",
    "            else:\n",
    "                print(\"Error: Invalid product name or not in inventory. Please enter a valid product name.\")\n",
    "        valid_quantity = False\n",
    "        while not valid_quantity:\n",
    "            try:\n",
    "                quantity = int(input(f\"Enter the quantity of {product_name}: \"))\n",
    "                if quantity <= 0:\n",
    "                    raise ValueError(\"Invalid quantity! Please enter a positive and numeric valuer.\")\n",
    "                if quantity > inventory[product_name]:\n",
    "                    raise ValueError(f\"Insufficient stock! Only {inventory[product_name]} available.\")\n",
    "                valid_quantity = True\n",
    "            except ValueError as error:\n",
    "                print(\"Number no longer available, please enter another number.\")\n",
    "        \n",
    "        customer_orders[product_name] = quantity \n",
    "        add_another = input(\"Do you want to add another product? (yes/no): \") \n",
    "    \n",
    "    return customer_orders \n",
    "\n",
    "\n",
    "orders = get_customer_orders(inventory, total_price)\n",
    "print(\"Customer orders:\", orders)\n"
   ]
  },
  {
   "cell_type": "code",
   "execution_count": null,
   "id": "5dcede63-780c-4b01-b702-13fe3e258029",
   "metadata": {},
   "outputs": [],
   "source": []
  }
 ],
 "metadata": {
  "kernelspec": {
   "display_name": "Python 3 (ipykernel)",
   "language": "python",
   "name": "python3"
  },
  "language_info": {
   "codemirror_mode": {
    "name": "ipython",
    "version": 3
   },
   "file_extension": ".py",
   "mimetype": "text/x-python",
   "name": "python",
   "nbconvert_exporter": "python",
   "pygments_lexer": "ipython3",
   "version": "3.12.4"
  }
 },
 "nbformat": 4,
 "nbformat_minor": 5
}
